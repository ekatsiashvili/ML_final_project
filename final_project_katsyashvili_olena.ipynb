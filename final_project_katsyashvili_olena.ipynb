{
 "cells": [
  {
   "cell_type": "code",
   "execution_count": 1,
   "id": "0e4229ec",
   "metadata": {
    "_cell_guid": "b1076dfc-b9ad-4769-8c92-a6c4dae69d19",
    "_uuid": "8f2839f25d086af736a60e9eeb907d3b93b6e0e5",
    "execution": {
     "iopub.execute_input": "2024-10-27T22:25:44.663448Z",
     "iopub.status.busy": "2024-10-27T22:25:44.663037Z",
     "iopub.status.idle": "2024-10-27T22:28:37.629420Z",
     "shell.execute_reply": "2024-10-27T22:28:37.628154Z"
    },
    "papermill": {
     "duration": 172.972783,
     "end_time": "2024-10-27T22:28:37.631905",
     "exception": false,
     "start_time": "2024-10-27T22:25:44.659122",
     "status": "completed"
    },
    "tags": []
   },
   "outputs": [
    {
     "name": "stdout",
     "output_type": "stream",
     "text": [
      "/kaggle/input/ml-fundamentals-and-applications-2024-10-01/final_proj_data.csv\n",
      "/kaggle/input/ml-fundamentals-and-applications-2024-10-01/final_proj_test.csv\n",
      "/kaggle/input/ml-fundamentals-and-applications-2024-10-01/final_proj_sample_submission.csv\n",
      "Best Balanced Accuracy Score: 0.7997432310854562\n",
      "Середній результат крос-валідації: 0.7861954397537669\n",
      "Файл з прогнозами збережено: 'submission.csv'\n"
     ]
    }
   ],
   "source": [
    "import pandas as pd\n",
    "from sklearn.model_selection import train_test_split, cross_val_score, RandomizedSearchCV\n",
    "from sklearn.preprocessing import StandardScaler, OneHotEncoder\n",
    "from sklearn.compose import ColumnTransformer\n",
    "from sklearn.pipeline import Pipeline\n",
    "from sklearn.ensemble import RandomForestClassifier\n",
    "from sklearn.impute import SimpleImputer\n",
    "from sklearn.metrics import balanced_accuracy_score\n",
    "import numpy as np\n",
    "import os\n",
    "for dirname, _, filenames in os.walk('/kaggle/input'):\n",
    "    for filename in filenames:\n",
    "        print(os.path.join(dirname, filename))\n",
    "\n",
    "\n",
    "# Завантаження даних\n",
    "train_data = pd.read_csv(\"/kaggle/input/ml-fundamentals-and-applications-2024-10-01/final_proj_data.csv\")\n",
    "test_data = pd.read_csv(\"/kaggle/input/ml-fundamentals-and-applications-2024-10-01/final_proj_test.csv\")\n",
    "\n",
    "# Перевірка наявності цільової змінної\n",
    "if 'y' not in train_data.columns:\n",
    "    print(\"Помилка: Цільова змінна 'y' відсутня в наборі даних.\")\n",
    "else:\n",
    "    # Визначення числових і категоріальних ознак\n",
    "    numerical_cols = train_data.select_dtypes(include=['float64', 'int64']).columns.drop('y', errors='ignore')\n",
    "    categorical_cols = train_data.select_dtypes(include=['object']).columns\n",
    "\n",
    "    # Розподіл на ознаки та цільову змінну\n",
    "    X = train_data.drop('y', axis=1)\n",
    "    y = train_data['y']\n",
    "\n",
    "    # Попередня обробка даних\n",
    "    numerical_transformer = Pipeline(steps=[\n",
    "        ('imputer', SimpleImputer(strategy='median')),  # Заповнення пропусків медіаною\n",
    "        ('scaler', StandardScaler())\n",
    "    ])\n",
    "\n",
    "    categorical_transformer = Pipeline(steps=[\n",
    "        ('imputer', SimpleImputer(strategy='constant', fill_value='missing')),  # Заповнення пропусків значенням 'missing'\n",
    "        ('onehot', OneHotEncoder(handle_unknown='ignore'))\n",
    "    ])\n",
    "\n",
    "    preprocessor = ColumnTransformer(\n",
    "        transformers=[\n",
    "            ('num', numerical_transformer, numerical_cols),\n",
    "            ('cat', categorical_transformer, categorical_cols)\n",
    "        ])\n",
    "\n",
    "    # Побудова ML-конвеєра з RandomForestClassifier\n",
    "    model = Pipeline(steps=[\n",
    "        ('preprocessor', preprocessor),\n",
    "        ('classifier', RandomForestClassifier(class_weight='balanced', random_state=42))  # Балансування класів\n",
    "    ])\n",
    "\n",
    "    # Підбір гіперпараметрів\n",
    "    param_grid = {\n",
    "        'classifier__n_estimators': [100, 200, 300],\n",
    "        'classifier__max_depth': [None, 10, 20, 30],\n",
    "        'classifier__min_samples_split': [2, 5, 10],\n",
    "        'classifier__min_samples_leaf': [1, 2, 4]\n",
    "    }\n",
    "\n",
    "    random_search = RandomizedSearchCV(model, param_distributions=param_grid, n_iter=10, cv=5, scoring='balanced_accuracy', random_state=42, n_jobs=-1)\n",
    "    \n",
    "    # Розбиття на навчальну і тестову вибірки\n",
    "    X_train, X_val, y_train, y_val = train_test_split(X, y, test_size=0.2, random_state=42)\n",
    "\n",
    "    # Підбір найкращої моделі\n",
    "    random_search.fit(X_train, y_train)\n",
    "    best_model = random_search.best_estimator_\n",
    "\n",
    "    # Оцінка найкращої моделі\n",
    "    y_pred = best_model.predict(X_val)\n",
    "    print(\"Best Balanced Accuracy Score:\", balanced_accuracy_score(y_val, y_pred))\n",
    "\n",
    "    # Крос-валідація з найкращою моделлю\n",
    "    cv_scores = cross_val_score(best_model, X, y, cv=5, scoring='balanced_accuracy')\n",
    "    print(\"Середній результат крос-валідації:\", np.mean(cv_scores))\n",
    "\n",
    "    # Прогнози для тестового набору\n",
    "    predictions = best_model.predict(test_data)\n",
    "\n",
    "    # Формування файлу \n",
    "    output = pd.DataFrame({'index': test_data.index, 'y': predictions})\n",
    "    output.to_csv(\"submission.csv\", index=False)\n",
    "\n",
    "    print(\"Файл з прогнозами збережено: 'submission.csv'\")\n",
    "    \n",
    "    "
   ]
  },
  {
   "cell_type": "code",
   "execution_count": 2,
   "id": "da0729f8",
   "metadata": {
    "execution": {
     "iopub.execute_input": "2024-10-27T22:28:37.638266Z",
     "iopub.status.busy": "2024-10-27T22:28:37.637408Z",
     "iopub.status.idle": "2024-10-27T22:28:37.642714Z",
     "shell.execute_reply": "2024-10-27T22:28:37.641812Z"
    },
    "papermill": {
     "duration": 0.010955,
     "end_time": "2024-10-27T22:28:37.645114",
     "exception": false,
     "start_time": "2024-10-27T22:28:37.634159",
     "status": "completed"
    },
    "tags": []
   },
   "outputs": [
    {
     "name": "stdout",
     "output_type": "stream",
     "text": [
      "(2500,)\n"
     ]
    }
   ],
   "source": [
    "print(predictions.shape)"
   ]
  }
 ],
 "metadata": {
  "kaggle": {
   "accelerator": "none",
   "dataSources": [
    {
     "databundleVersionId": 9855495,
     "sourceId": 86887,
     "sourceType": "competition"
    }
   ],
   "dockerImageVersionId": 30786,
   "isGpuEnabled": false,
   "isInternetEnabled": true,
   "language": "python",
   "sourceType": "notebook"
  },
  "kernelspec": {
   "display_name": "Python 3 (Spyder)",
   "language": "python3",
   "name": "python3"
  },
  "language_info": {
   "codemirror_mode": {
    "name": "ipython",
    "version": 3
   },
   "file_extension": ".py",
   "mimetype": "text/x-python",
   "name": "python",
   "nbconvert_exporter": "python",
   "pygments_lexer": "ipython3",
   "version": "3.11.10"
  },
  "papermill": {
   "default_parameters": {},
   "duration": 178.296429,
   "end_time": "2024-10-27T22:28:40.267595",
   "environment_variables": {},
   "exception": null,
   "input_path": "__notebook__.ipynb",
   "output_path": "__notebook__.ipynb",
   "parameters": {},
   "start_time": "2024-10-27T22:25:41.971166",
   "version": "2.6.0"
  }
 },
 "nbformat": 4,
 "nbformat_minor": 5
}
